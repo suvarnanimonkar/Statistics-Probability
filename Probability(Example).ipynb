{
 "cells": [
  {
   "cell_type": "code",
   "execution_count": 4,
   "id": "05733aa9",
   "metadata": {},
   "outputs": [],
   "source": [
    "from scipy.stats import binom,hypergeom,poisson,nbinom,expon,norm\n",
    "import matplotlib.pyplot as plt\n",
    "import pandas as pd\n",
    "import numpy as np"
   ]
  },
  {
   "cell_type": "markdown",
   "id": "98dc0f89",
   "metadata": {},
   "source": [
    "# Geometric Distribution"
   ]
  },
  {
   "cell_type": "markdown",
   "id": "9a994e61",
   "metadata": {},
   "source": [
    "# QUE\n",
    "A light bulb manufacturing factory finds 3 in every 60 light bulbs defective. What is the probability that the first defective light bulb with be found when the 6th one is tested?"
   ]
  },
  {
   "cell_type": "code",
   "execution_count": 5,
   "id": "5805adf8",
   "metadata": {},
   "outputs": [],
   "source": [
    "?nbinom"
   ]
  },
  {
   "cell_type": "code",
   "execution_count": 6,
   "id": "d4a821cc",
   "metadata": {},
   "outputs": [
    {
     "data": {
      "text/plain": [
       "0.03675459453125"
      ]
     },
     "execution_count": 6,
     "metadata": {},
     "output_type": "execute_result"
    }
   ],
   "source": [
    "nbinom.pmf(k=6,n=1,p=3/60)"
   ]
  },
  {
   "cell_type": "markdown",
   "id": "7f025e43",
   "metadata": {},
   "source": [
    "* Que-\n",
    "Suppose you are playing a game of darts. The probability of success is 0.4. What is the probability that you will hit the bullseye on the 3rd try?\n",
    "k=1-1=3-1=2"
   ]
  },
  {
   "cell_type": "code",
   "execution_count": 47,
   "id": "0f69de2d",
   "metadata": {},
   "outputs": [
    {
     "data": {
      "text/plain": [
       "0.14400000000000002"
      ]
     },
     "execution_count": 47,
     "metadata": {},
     "output_type": "execute_result"
    }
   ],
   "source": [
    "nbinom.pmf(k=2,n=1,p=0.4)"
   ]
  },
  {
   "cell_type": "markdown",
   "id": "671ca3af",
   "metadata": {},
   "source": [
    "* Que-\n",
    " Suppose Max owns a lightbulb manufacturing company and determines 3 out of every 75 bulbs are defective.what is the probability that max will find the first faulty lightbulb on the 6th one that he tested?\n"
   ]
  },
  {
   "cell_type": "code",
   "execution_count": 86,
   "id": "8c58b102",
   "metadata": {
    "scrolled": true
   },
   "outputs": [
    {
     "data": {
      "text/plain": [
       "0.032614907904"
      ]
     },
     "execution_count": 86,
     "metadata": {},
     "output_type": "execute_result"
    }
   ],
   "source": [
    "nbinom.pmf(k=5,n=1,p=3/75)"
   ]
  },
  {
   "cell_type": "markdown",
   "id": "902fc88c",
   "metadata": {},
   "source": [
    "* Que-\n",
    "In a class there are 35% students  doing their homework regularly.if from this class students are selected randomly ,what is the probability that the 5th student’s homework is the 1st that has completed their homework?\n"
   ]
  },
  {
   "cell_type": "code",
   "execution_count": 81,
   "id": "5458ffbe",
   "metadata": {},
   "outputs": [
    {
     "data": {
      "text/plain": [
       "0.040610171875000024"
      ]
     },
     "execution_count": 81,
     "metadata": {},
     "output_type": "execute_result"
    }
   ],
   "source": [
    "nbinom.pmf(k=5,n=1,p=0.35)"
   ]
  },
  {
   "cell_type": "markdown",
   "id": "3d3ac1b0",
   "metadata": {},
   "source": [
    "* Que-\n",
    "Suppose it’s known that 4% of individuals who visit a certain bank are visiting to file bankruptcy. Suppose a banker wants to know the probability that he will meet with less than 10 people before encountering someone who is filing for bankruptcy.\n",
    "\n"
   ]
  },
  {
   "cell_type": "code",
   "execution_count": 88,
   "id": "19b73af2",
   "metadata": {},
   "outputs": [
    {
     "data": {
      "text/plain": [
       "0.0277013598329792"
      ]
     },
     "execution_count": 88,
     "metadata": {},
     "output_type": "execute_result"
    }
   ],
   "source": [
    "nbinom.pmf(k=9,n=1,p=0.04)"
   ]
  },
  {
   "cell_type": "markdown",
   "id": "df24ba8e",
   "metadata": {},
   "source": [
    "* Que-\n",
    "Suppose a dice is repeatedly rolled until \"3\" is obtained. Then the probability of getting \"3\" is p = 1 / 6 and the random variable, X, can take on a value of 1, 2, 3, ...., until the first success is obtained. This is an example of a geometric distribution with p = 1 / 6.\n"
   ]
  },
  {
   "cell_type": "markdown",
   "id": "5f3ca5d0",
   "metadata": {},
   "source": [
    "* Que_\n",
    "Suppose you are playing a game of darts. The probability of success is 0.4. What is the probability that you will hit the bullseye on the third try?\n"
   ]
  },
  {
   "cell_type": "code",
   "execution_count": 89,
   "id": "4d452d20",
   "metadata": {},
   "outputs": [
    {
     "data": {
      "text/plain": [
       "0.14400000000000002"
      ]
     },
     "execution_count": 89,
     "metadata": {},
     "output_type": "execute_result"
    }
   ],
   "source": [
    "nbinom.pmf(k=2,n=1,p=0.4)"
   ]
  },
  {
   "cell_type": "markdown",
   "id": "159d635c",
   "metadata": {},
   "source": [
    "* Que-\n",
    "\tIf your probability of success is 0.2, what is the probability you meet an independent voter on your third try?  Inserting 0.2 as p and with X = 3, the probability density function becomes:\n"
   ]
  },
  {
   "cell_type": "code",
   "execution_count": 90,
   "id": "db72c298",
   "metadata": {},
   "outputs": [
    {
     "data": {
      "text/plain": [
       "0.12799999999999997"
      ]
     },
     "execution_count": 90,
     "metadata": {},
     "output_type": "execute_result"
    }
   ],
   "source": [
    "nbinom.pmf(k=2,n=1,p=0.2)"
   ]
  },
  {
   "cell_type": "markdown",
   "id": "949a8d07",
   "metadata": {},
   "source": [
    "* Que-\n",
    " Matthew is a high school basketball player and a 75% free throw shooter. Calculate what will be the probability that Matthew makes his first free throw on his fifth shot?\n"
   ]
  },
  {
   "cell_type": "code",
   "execution_count": 91,
   "id": "804a322d",
   "metadata": {},
   "outputs": [
    {
     "data": {
      "text/plain": [
       "0.0029296875000000004"
      ]
     },
     "execution_count": 91,
     "metadata": {},
     "output_type": "execute_result"
    }
   ],
   "source": [
    "nbinom.pmf(k=4,n=1,p=0.75)"
   ]
  },
  {
   "cell_type": "markdown",
   "id": "25a1d56c",
   "metadata": {},
   "source": [
    "* Que-\n",
    "You play a game of chance that you can either win or lose (there are no other possibilities) until you lose. Your probability of losing is \n",
    "p=\n",
    "0.57\n",
    ". What is the probability that it takes five games until you lose?\n"
   ]
  },
  {
   "cell_type": "code",
   "execution_count": 92,
   "id": "0771c50d",
   "metadata": {},
   "outputs": [
    {
     "data": {
      "text/plain": [
       "0.019487165700000017"
      ]
     },
     "execution_count": 92,
     "metadata": {},
     "output_type": "execute_result"
    }
   ],
   "source": [
    "nbinom.pmf(k=4,n=1,p=0.57)"
   ]
  },
  {
   "cell_type": "markdown",
   "id": "8bb3446d",
   "metadata": {},
   "source": [
    "# Binomial Distribution"
   ]
  },
  {
   "cell_type": "markdown",
   "id": "03c72698",
   "metadata": {},
   "source": [
    "* Que  -\n",
    " A box of candies has many different colors in it.There is a 15% chance of getting a pink candy . what is the probability that exactly 4 candies in a box are pink out of 10?\n",
    "x=4,n=10,p=0.15"
   ]
  },
  {
   "cell_type": "code",
   "execution_count": 21,
   "id": "81331971",
   "metadata": {},
   "outputs": [
    {
     "data": {
      "text/plain": [
       "0.04009570787988276"
      ]
     },
     "execution_count": 21,
     "metadata": {},
     "output_type": "execute_result"
    }
   ],
   "source": [
    "binom.pmf(4,10,0.15)"
   ]
  },
  {
   "cell_type": "markdown",
   "id": "eaef2fce",
   "metadata": {},
   "source": [
    "* Que-\n",
    "If from six to seven in the evening one telephone line in every five is engaged in a conversation: what is the probability that when 10 telephone numbers are chosen at random, only two are in use?\n",
    "n=10,x=2,p=1/5"
   ]
  },
  {
   "cell_type": "code",
   "execution_count": 24,
   "id": "5be7c157",
   "metadata": {},
   "outputs": [
    {
     "data": {
      "text/plain": [
       "0.30198988800000004"
      ]
     },
     "execution_count": 24,
     "metadata": {},
     "output_type": "execute_result"
    }
   ],
   "source": [
    "binom.pmf(2,10,1/5)"
   ]
  },
  {
   "cell_type": "markdown",
   "id": "67f76294",
   "metadata": {},
   "source": [
    "* Que-\n",
    "In the old days, there was a probability of 0.8 of success in any attempt to make a telephone call. (This often depended on the importance of the person making the call, or the operator's curiosity!)\n",
    "Calculate the probability of having 7 successes in 10 attempts.\n",
    "n=10,x=7,p=0.8"
   ]
  },
  {
   "cell_type": "code",
   "execution_count": 25,
   "id": "4bd43771",
   "metadata": {},
   "outputs": [
    {
     "data": {
      "text/plain": [
       "0.20132659199999978"
      ]
     },
     "execution_count": 25,
     "metadata": {},
     "output_type": "execute_result"
    }
   ],
   "source": [
    "binom.pmf(7,10,0.8,)"
   ]
  },
  {
   "cell_type": "markdown",
   "id": "786cd7ad",
   "metadata": {},
   "source": [
    "* Que-\n",
    "The probability that a person can achieve a target is 3/4. The count of tries is 5. What is the probability that he will attain the target at least thrice?\n",
    "n=5,x=3,4,5,p=3/4\n"
   ]
  },
  {
   "cell_type": "code",
   "execution_count": 30,
   "id": "2f93fab0",
   "metadata": {},
   "outputs": [
    {
     "data": {
      "text/plain": [
       "0.8964843749999999"
      ]
     },
     "execution_count": 30,
     "metadata": {},
     "output_type": "execute_result"
    }
   ],
   "source": [
    "binom.pmf(3,5,3/4)+binom.pmf(4,5,3/4)+binom.pmf(5,5,3/4)"
   ]
  },
  {
   "cell_type": "markdown",
   "id": "d49a6d76",
   "metadata": {},
   "source": [
    "* Que-\n",
    "A pharmaceutical lab states that a drug causes negative side effects in 3 of every 100 patients. To confirm this affirmation, another laboratory chooses 5 people at random who have consumed the drug. What is the probability of the following events?\n",
    "* 1.None of the five patients experience                 side effects.\n",
    "* 2.At least two experience side effects.\n",
    "\n",
    "x=0,n=5,p=0.3"
   ]
  },
  {
   "cell_type": "code",
   "execution_count": 42,
   "id": "f3f2ad76",
   "metadata": {},
   "outputs": [
    {
     "name": "stdout",
     "output_type": "stream",
     "text": [
      "0.8587340256999999\n",
      "0.008472052800000074\n"
     ]
    }
   ],
   "source": [
    "\n",
    "a=binom.pmf(0,5,0.03)\n",
    "b=1-(binom.pmf(0,5,0.03)+binom.pmf(1,5,0.03))\n",
    "print(a)\n",
    "print(b)"
   ]
  },
  {
   "cell_type": "markdown",
   "id": "55a9fb67",
   "metadata": {},
   "source": [
    "* Your basketball team is playing a series of 5 games against your opponent.                 The winner is those who wins more games (out of 5).Let assume that your team is    much more skilled and has 75% chances of winning. It means there is a 25% chance of losing.\n",
    "What is the probability of your team get 3 wins?\n",
    "x=3,n=5,p=0.25"
   ]
  },
  {
   "cell_type": "code",
   "execution_count": 44,
   "id": "24827181",
   "metadata": {},
   "outputs": [
    {
     "data": {
      "text/plain": [
       "0.26367187499999983"
      ]
     },
     "execution_count": 44,
     "metadata": {},
     "output_type": "execute_result"
    }
   ],
   "source": [
    "binom.pmf(3,5,0.75)"
   ]
  },
  {
   "cell_type": "markdown",
   "id": "c9a334cf",
   "metadata": {},
   "source": [
    "* Que-\n",
    "Let’s say that 80% of all business startups in the IT industry report that they generate a profit in their first year. If a sample of 10 new IT business startups is selected, find the probability that exactly seven will generate a profit in their first year.\n",
    "First, do we satisfy the conditions of the binomial distribution?\n",
    "There are only two possible mutually exclusive outcomes – to generate a profit in the first year or not (yes or no).\n",
    "There are a fixed number of trails (startups) – 10.\n",
    "The IT startups are independent and it is reasonable to assume that this is true.\n",
    "The probability of success for each startup is 0.8\n",
    "p=0.80,x=10,n="
   ]
  },
  {
   "cell_type": "code",
   "execution_count": null,
   "id": "2911da57",
   "metadata": {},
   "outputs": [],
   "source": []
  },
  {
   "cell_type": "markdown",
   "id": "91d9b928",
   "metadata": {},
   "source": [
    "* Que\n",
    "If X is binomially distributed with 6 trials and a probability of success equal to 1 4 at each attempt, what is the probability of:\n",
    "* (a) exactly 4 successes \n",
    "* (b) at least one success?\n"
   ]
  },
  {
   "cell_type": "code",
   "execution_count": 56,
   "id": "db549260",
   "metadata": {},
   "outputs": [
    {
     "name": "stdout",
     "output_type": "stream",
     "text": [
      "0.03295898437499997\n",
      "0.822021484375\n"
     ]
    }
   ],
   "source": [
    "a=binom.pmf(4,6,0.25)\n",
    "print(a)\n",
    "b=1-(binom.pmf(0,6,0.25))\n",
    "print(b)"
   ]
  },
  {
   "cell_type": "markdown",
   "id": "13dcf1f9",
   "metadata": {},
   "source": [
    "* Que-\n",
    "There are 10 balls  in a bowl ,  3 of the balls are red and 7 of them are blue. If  drawing a red ball is defined as success and sampling is with replacement, find the probability of getting 5 red balls in 20 trials.\n",
    "\n"
   ]
  },
  {
   "cell_type": "code",
   "execution_count": 54,
   "id": "dd85eed4",
   "metadata": {},
   "outputs": [
    {
     "data": {
      "text/plain": [
       "0.0015704842378120411"
      ]
     },
     "execution_count": 54,
     "metadata": {},
     "output_type": "execute_result"
    }
   ],
   "source": [
    "binom.pmf(3,10,0.025)"
   ]
  },
  {
   "cell_type": "markdown",
   "id": "cc8c8263",
   "metadata": {},
   "source": [
    "# Poisson distribution\n",
    "# QUE\n",
    "An average of 0.61 soldiers died by horse kicks per year in each Prussian army corps. You want to calculate the probability that exactly two soldiers died in the VII Army Corps in 1898, assuming that the number of horse kick deaths per year follows a Poisson distribution.\n",
    "\n"
   ]
  },
  {
   "cell_type": "code",
   "execution_count": 14,
   "id": "7413f91a",
   "metadata": {},
   "outputs": [
    {
     "data": {
      "text/plain": [
       "0.10109042919131071"
      ]
     },
     "execution_count": 14,
     "metadata": {},
     "output_type": "execute_result"
    }
   ],
   "source": [
    "poisson.pmf(2,0.61)"
   ]
  },
  {
   "cell_type": "markdown",
   "id": "7f18ced0",
   "metadata": {},
   "source": [
    "* Que-\n",
    "Telephone calls arrive at an average rate of 5 calls every 15 minutes at Slippers All Inclusive reservation desk. What is the probability that less than 3 calls will arrive in any 15 minutes?\n"
   ]
  },
  {
   "cell_type": "code",
   "execution_count": 55,
   "id": "28a12885",
   "metadata": {},
   "outputs": [
    {
     "data": {
      "text/plain": [
       "0.00017207005528227702"
      ]
     },
     "execution_count": 55,
     "metadata": {},
     "output_type": "execute_result"
    }
   ],
   "source": [
    "poisson.pmf(3,15)"
   ]
  },
  {
   "cell_type": "markdown",
   "id": "895a05dc",
   "metadata": {},
   "source": [
    "* Que-\n",
    " If 3% of electronic units manufactured by a company are defective. Find the probability that in a sample of 200 units, less than 2 bulbs are defective."
   ]
  },
  {
   "cell_type": "code",
   "execution_count": 59,
   "id": "d4d6cfb5",
   "metadata": {},
   "outputs": [
    {
     "data": {
      "text/plain": [
       "0.0173512652366645"
      ]
     },
     "execution_count": 59,
     "metadata": {},
     "output_type": "execute_result"
    }
   ],
   "source": [
    "poisson.pmf(0,6)+poisson.pmf(1,6)"
   ]
  },
  {
   "cell_type": "markdown",
   "id": "fe006995",
   "metadata": {},
   "source": [
    "* Que-\n",
    "As only 3 students came to attend the class today, find the probability for exactly 4 students to attend the classes tomorrow.\n"
   ]
  },
  {
   "cell_type": "code",
   "execution_count": 61,
   "id": "f38c92fd",
   "metadata": {},
   "outputs": [
    {
     "data": {
      "text/plain": [
       "0.16803135574154085"
      ]
     },
     "execution_count": 61,
     "metadata": {},
     "output_type": "execute_result"
    }
   ],
   "source": [
    "poisson.pmf(4,3)"
   ]
  },
  {
   "cell_type": "markdown",
   "id": "7a3eeafa",
   "metadata": {},
   "source": [
    "* Que-\n",
    " In a cafe, the customer arrives at a mean rate of 2 per min. Find the probability of arrival of 5 customers in 1 minute using the Poisson distribution formula.\n",
    "\n"
   ]
  },
  {
   "cell_type": "code",
   "execution_count": 62,
   "id": "32c739c3",
   "metadata": {},
   "outputs": [
    {
     "data": {
      "text/plain": [
       "0.03608940886309672"
      ]
     },
     "execution_count": 62,
     "metadata": {},
     "output_type": "execute_result"
    }
   ],
   "source": [
    "poisson.pmf(5,2)"
   ]
  },
  {
   "cell_type": "markdown",
   "id": "641c42b2",
   "metadata": {},
   "source": [
    "* Que-\n",
    "An automobile company has average defects per unit (DPU) 0f 0.3, what is the probability they would find 3 defects in a vehicle? Here we can use Poisson distribution to calculate the probability.\n"
   ]
  },
  {
   "cell_type": "code",
   "execution_count": 64,
   "id": "ef461bb0",
   "metadata": {},
   "outputs": [
    {
     "data": {
      "text/plain": [
       "0.0033336819930677277"
      ]
     },
     "execution_count": 64,
     "metadata": {},
     "output_type": "execute_result"
    }
   ],
   "source": [
    "poisson.pmf(3,0.3)"
   ]
  },
  {
   "cell_type": "markdown",
   "id": "a0d34c8f",
   "metadata": {},
   "source": [
    "* Que-\n",
    "A manufacturer knows that the bulb he makes consists of 2% of bulbs as defective.If he makes 200 bulbs then what is the probability that less than 4 bulbs are defective.\n"
   ]
  },
  {
   "cell_type": "code",
   "execution_count": 80,
   "id": "355fcff5",
   "metadata": {},
   "outputs": [
    {
     "data": {
      "text/plain": [
       "0.43347012036670884"
      ]
     },
     "execution_count": 80,
     "metadata": {},
     "output_type": "execute_result"
    }
   ],
   "source": [
    "# poisson.cdf(3,4)\n",
    "poisson.pmf(0,4)+poisson.pmf(1,4)+poisson.pmf(2,4)+poisson.pmf(3,4)"
   ]
  },
  {
   "cell_type": "markdown",
   "id": "3b0d37b4",
   "metadata": {},
   "source": [
    "* Que-\n",
    "If the random variable X follows a Poisson distribution with mean 3.4, \n",
    "find P (X = 6) .\n"
   ]
  },
  {
   "cell_type": "code",
   "execution_count": 71,
   "id": "8cb1422d",
   "metadata": {},
   "outputs": [
    {
     "data": {
      "text/plain": [
       "0.07160440945982202"
      ]
     },
     "execution_count": 71,
     "metadata": {},
     "output_type": "execute_result"
    }
   ],
   "source": [
    "poisson.pmf(6,3.4)"
   ]
  },
  {
   "cell_type": "markdown",
   "id": "8d8c044c",
   "metadata": {},
   "source": [
    "* Que-\n",
    "A Council is considering whether to base a recovery vehicle on a stretch of road to help clear incidents as quickly as possible. The road concerned carries over 5000 vehicles during the peak rush hour period. Records show that, on average, the number of incidents during the morning rush hour is 5. The Council won’t base a vehicle on the road if the probability of having more than 5 incidents in any one morning is less than 30%. Based on this information should the Council provide a vehicle? \n"
   ]
  },
  {
   "cell_type": "code",
   "execution_count": 72,
   "id": "14f73bb1",
   "metadata": {},
   "outputs": [
    {
     "data": {
      "text/plain": [
       "0.615960654833063"
      ]
     },
     "execution_count": 72,
     "metadata": {},
     "output_type": "execute_result"
    }
   ],
   "source": [
    "poisson.pmf(0,5)+poisson.pmf(1,5)+poisson.pmf(2,5)+poisson.pmf(3,5)+poisson.pmf(4,5)+poisson.pmf(5,5)"
   ]
  },
  {
   "cell_type": "markdown",
   "id": "4a4548e6",
   "metadata": {},
   "source": [
    "* Que-\n",
    " A customer help center receives on average 3.5 calls every hour.\n",
    "* a) What is the probability that it will receive at most 4 calls every hour?\n",
    "* b) What is the probability that it will receive at least 5 calls every hour?\n"
   ]
  },
  {
   "cell_type": "code",
   "execution_count": 74,
   "id": "e779a832",
   "metadata": {},
   "outputs": [
    {
     "name": "stdout",
     "output_type": "stream",
     "text": [
      "0.7254449533096048\n",
      "0.2745550466903952\n"
     ]
    }
   ],
   "source": [
    "a=poisson.pmf(0,3.5)+poisson.pmf(1,3.5)+poisson.pmf(2,3.5)+poisson.pmf(3,3.5)+poisson.pmf(4,3.5)\n",
    "b=1-a\n",
    "print(a)\n",
    "print(b)"
   ]
  },
  {
   "cell_type": "markdown",
   "id": "41989dad",
   "metadata": {},
   "source": [
    "* Que-\n",
    "The mean number of power outages in the city of Brunswick is 4 per year. Find the probability that in a given year,\n",
    "* a)there are exactly 3 outages,\n",
    "* b)there are more than 3 outages.\n"
   ]
  },
  {
   "cell_type": "code",
   "execution_count": 76,
   "id": "77d056f0",
   "metadata": {},
   "outputs": [
    {
     "name": "stdout",
     "output_type": "stream",
     "text": [
      "0.19536681481316454\n",
      "0.5665298796332912\n"
     ]
    }
   ],
   "source": [
    "a=poisson.pmf(3,4)\n",
    "b=1-(poisson.pmf(0,4)+poisson.pmf(1,4)+poisson.pmf(2,4)+poisson.pmf(3,4))\n",
    "print(a)\n",
    "print(b)"
   ]
  },
  {
   "cell_type": "markdown",
   "id": "827d0a63",
   "metadata": {},
   "source": [
    "* Que-\n"
   ]
  },
  {
   "cell_type": "markdown",
   "id": "485c7759",
   "metadata": {},
   "source": [
    "# Additional Theorm"
   ]
  },
  {
   "cell_type": "markdown",
   "id": "c432b6fb",
   "metadata": {},
   "source": [
    "* Que-\n",
    "If A and B are mutually exclusive events p(A)=⅜ and p(B)=⅛ ,the find\n",
    "       1)p(A’)\n",
    "       2)p(AUB) \n"
   ]
  },
  {
   "cell_type": "code",
   "execution_count": 4,
   "id": "e7cf6d1c",
   "metadata": {},
   "outputs": [
    {
     "name": "stdout",
     "output_type": "stream",
     "text": [
      "p(A)= 0.625\n",
      "a_union_b= 0.5\n"
     ]
    }
   ],
   "source": [
    "#1)\n",
    "p_a=3/8\n",
    "a=1-p_a\n",
    "print(\"p(A)=\",a)\n",
    "#2)\n",
    "p_a=3/8\n",
    "p_b=1/8\n",
    "a_and_b=0\n",
    "a_union_b=p_a+p_b-a_and_b\n",
    "print(\"a_union_b=\",a_union_b)"
   ]
  },
  {
   "cell_type": "markdown",
   "id": "ea561aae",
   "metadata": {},
   "source": [
    "* Que-\n",
    " If the probability of solving a problem by 2 students George and James are 1/2 and 1/3 respectively then what is the probability of the problem to be solved.\n"
   ]
  },
  {
   "cell_type": "code",
   "execution_count": 7,
   "id": "7e7b463c",
   "metadata": {},
   "outputs": [
    {
     "data": {
      "text/plain": [
       "0.6666666666666666"
      ]
     },
     "execution_count": 7,
     "metadata": {},
     "output_type": "execute_result"
    }
   ],
   "source": [
    "p_a=1/2\n",
    "p_b=1/3\n",
    "a_and_b=1/2*1/3\n",
    "a_union_b=p_a+p_b-a_and_b\n",
    "a_union_b"
   ]
  },
  {
   "cell_type": "markdown",
   "id": "3d8dedf4",
   "metadata": {},
   "source": [
    "* Que-\n",
    "What is the probability of drawing either a king or a queen in a single draw from a well shuffled pack of 52 car"
   ]
  },
  {
   "cell_type": "code",
   "execution_count": 6,
   "id": "b22b99c1",
   "metadata": {},
   "outputs": [
    {
     "data": {
      "text/plain": [
       "0.15384615384615385"
      ]
     },
     "execution_count": 6,
     "metadata": {},
     "output_type": "execute_result"
    }
   ],
   "source": [
    "p_a=4/52\n",
    "p_b=4/52\n",
    "a_and_b=0\n",
    "a_union_b=p_a+p_b-a_and_b\n",
    "a_union_b"
   ]
  },
  {
   "cell_type": "markdown",
   "id": "71601868",
   "metadata": {},
   "source": [
    "* Que-\n",
    " A and B are two candidates seeking admission to IIT. The probability that A getting selected is 0.5, the probability of B getting selected is 0.7 and the probability that both A and B getting selected is 0.3. What is the probability that it could be either candidate A or B.\n"
   ]
  },
  {
   "cell_type": "code",
   "execution_count": 8,
   "id": "d55a1f36",
   "metadata": {},
   "outputs": [
    {
     "data": {
      "text/plain": [
       "0.8999999999999999"
      ]
     },
     "execution_count": 8,
     "metadata": {},
     "output_type": "execute_result"
    }
   ],
   "source": [
    "p_a=0.5\n",
    "p_b=0.7\n",
    "a_and_b=0.3\n",
    "a_union_b=p_a+p_b-a_and_b\n",
    "a_union_b"
   ]
  },
  {
   "cell_type": "markdown",
   "id": "d69d8c3b",
   "metadata": {},
   "source": [
    "* Que-\n",
    "A bag contains 30 balls numbered from 1 to 30. One ball is drawn at random, find the probability that the number of the ball will be multiple of 5 or 9.\n",
    "\n"
   ]
  },
  {
   "cell_type": "code",
   "execution_count": 9,
   "id": "c3d25ae0",
   "metadata": {},
   "outputs": [
    {
     "data": {
      "text/plain": [
       "0.4666666666666667"
      ]
     },
     "execution_count": 9,
     "metadata": {},
     "output_type": "execute_result"
    }
   ],
   "source": [
    "p_a=5/30\n",
    "p_b=9/30\n",
    "a_and_b=0\n",
    "a_union_b=p_a+p_b-a_and_b\n",
    "a_union_b"
   ]
  },
  {
   "cell_type": "markdown",
   "id": "60b0be66",
   "metadata": {},
   "source": [
    "* Que-\n",
    "A die is thrown twice. Let A be the event, ‘First die shows 5’ and B be the event, ‘second die shows 5’. Find P(A∪B) ..\n"
   ]
  },
  {
   "cell_type": "code",
   "execution_count": 14,
   "id": "867ab1e3",
   "metadata": {},
   "outputs": [
    {
     "data": {
      "text/plain": [
       "0.3055555555555555"
      ]
     },
     "execution_count": 14,
     "metadata": {},
     "output_type": "execute_result"
    }
   ],
   "source": [
    "p_a=6/36\n",
    "p_b=6/36\n",
    "a_and_b=1/36\n",
    "a_union_b=p_a+p_b-a_and_b\n",
    "a_union_b"
   ]
  },
  {
   "cell_type": "markdown",
   "id": "7ced81af",
   "metadata": {},
   "source": [
    "* Que-\n",
    "Two dice are tossed once. Find the probability of getting an even number on first dice or a total of 8.\n",
    "\n"
   ]
  },
  {
   "cell_type": "code",
   "execution_count": 16,
   "id": "7e528c19",
   "metadata": {},
   "outputs": [
    {
     "data": {
      "text/plain": [
       "0.5555555555555555"
      ]
     },
     "execution_count": 16,
     "metadata": {},
     "output_type": "execute_result"
    }
   ],
   "source": [
    "p_a=18/36\n",
    "p_b=5/36\n",
    "a_and_b=3/36\n",
    "a_union_b=p_a+p_b-a_and_b\n",
    "a_union_b"
   ]
  },
  {
   "cell_type": "markdown",
   "id": "1a049204",
   "metadata": {},
   "source": [
    "* Que-\n",
    "A person can hit a target in 3 out 4 shots, whereas another person can hit the target in 2 out of 3 shots. Find the probability of the targets being hit at all when they both try.\n",
    "\n"
   ]
  },
  {
   "cell_type": "code",
   "execution_count": 20,
   "id": "4e21d835",
   "metadata": {},
   "outputs": [
    {
     "data": {
      "text/plain": [
       "1.3333333333333333"
      ]
     },
     "execution_count": 20,
     "metadata": {},
     "output_type": "execute_result"
    }
   ],
   "source": [
    "p_a=3/4\n",
    "p_b=2/3\n",
    "a_and_b=1/12\n",
    "a_union_b=p_a+p_b-a_and_b\n",
    "a_union_b"
   ]
  },
  {
   "cell_type": "markdown",
   "id": "81931ccc",
   "metadata": {},
   "source": [
    "If A and B are two events associated with a random experiment for which P(A) = 0.35, P(A or B) = 0.85, and P(A and B) = 0.15. \n",
    "Find \n",
    "  * (i) P(only B)\n",
    "  * (ii) P(B') \n",
    "  * (iii) P(only A)\n"
   ]
  },
  {
   "cell_type": "code",
   "execution_count": 27,
   "id": "a5a731b3",
   "metadata": {},
   "outputs": [
    {
     "name": "stdout",
     "output_type": "stream",
     "text": [
      "p_b= 0.6666666666666666\n",
      "a= 0.33333333333333337\n",
      "only_a 0.19999999999999998\n"
     ]
    }
   ],
   "source": [
    "p_a=0.35\n",
    "a_union_b=0.85\n",
    "a_and_b=0.15\n",
    "\n",
    "#1)\n",
    "a_union_b=p_a+p_b-a_and_b\n",
    "print(\"p_b=\",p_b)\n",
    "\n",
    "#2)\n",
    "a=1-p_b\n",
    "print(\"a=\",a)\n",
    "\n",
    "#3)\n",
    "only_a=p_a-a_and_b\n",
    "print(\"only_a\",only_a)"
   ]
  },
  {
   "cell_type": "markdown",
   "id": "a69cd79a",
   "metadata": {},
   "source": [
    "Que-\n",
    "Consider an experiment of rolling a fair die .Let A be the event that an even number appears . B = a number bigger than 3 occurs . Find the probability that the number appearing on the uppermost face is either even or bigger than 3..\n"
   ]
  },
  {
   "cell_type": "markdown",
   "id": "a4763264",
   "metadata": {},
   "source": [
    "* Que-\n",
    " A number is selected from the first 20 natural numbers. Find the probability that it would be divisible by 3 or 7?\n"
   ]
  },
  {
   "cell_type": "code",
   "execution_count": 29,
   "id": "4e6a363f",
   "metadata": {},
   "outputs": [
    {
     "data": {
      "text/plain": [
       "0.4"
      ]
     },
     "execution_count": 29,
     "metadata": {},
     "output_type": "execute_result"
    }
   ],
   "source": [
    "p_a=6/20\n",
    "p_b=2/20\n",
    "a_and_b=0\n",
    "a_union_b=p_a+p_b-a_and_b\n",
    "a_union_b"
   ]
  },
  {
   "cell_type": "markdown",
   "id": "384674ae",
   "metadata": {},
   "source": [
    "* Que-\n",
    " If A and B are two events such thatP (A) = 1/4 , P (B) = 1/2 and P(A and B)= 1/8, find (i) P (A or B) (ii) P(not A and not B).\n"
   ]
  },
  {
   "cell_type": "code",
   "execution_count": 35,
   "id": "2e230145",
   "metadata": {},
   "outputs": [
    {
     "name": "stdout",
     "output_type": "stream",
     "text": [
      "a_union_b= 0.625\n",
      "ab_not= 0.375\n"
     ]
    }
   ],
   "source": [
    "p_a=1/4\n",
    "p_b=1/2\n",
    "a_and_b=1/8\n",
    "\n",
    "#1)\n",
    "a_union_b=p_a +p_b - a_and_b\n",
    "print(\"a_union_b=\",a_union_b)\n",
    "\n",
    "#2)\n",
    "ab_not=1-a_union_b\n",
    "print(\"ab_not=\",ab_not)"
   ]
  },
  {
   "cell_type": "markdown",
   "id": "5001dab8",
   "metadata": {},
   "source": [
    "# Multiplication theorem"
   ]
  },
  {
   "cell_type": "markdown",
   "id": "a0924eca",
   "metadata": {},
   "source": [
    "* Que-\n",
    "A bag contains 15 red and 5 blue balls.without the replacement of the balls,two balls       are drawn from a  bag one after the other.what is the probability of picking both the balls as red?\n",
    "\n"
   ]
  },
  {
   "cell_type": "code",
   "execution_count": 37,
   "id": "549a8e31",
   "metadata": {},
   "outputs": [
    {
     "data": {
      "text/plain": [
       "0.5526315789473684"
      ]
     },
     "execution_count": 37,
     "metadata": {},
     "output_type": "execute_result"
    }
   ],
   "source": [
    "p_a=15/20\n",
    "p_b=14/19\n",
    "a_and_b=p_a*p_b\n",
    "a_and_b"
   ]
  },
  {
   "cell_type": "markdown",
   "id": "2dad0ed9",
   "metadata": {},
   "source": [
    "* Que-\n",
    "What is the probability of getting a 51 and then a 2 with the normal 6-sided die?\n"
   ]
  },
  {
   "cell_type": "code",
   "execution_count": 33,
   "id": "d2bcbd8d",
   "metadata": {},
   "outputs": [
    {
     "data": {
      "text/plain": [
       "0.027777777777777776"
      ]
     },
     "execution_count": 33,
     "metadata": {},
     "output_type": "execute_result"
    }
   ],
   "source": [
    "p_a=1/6\n",
    "p_b=1/6\n",
    "a_and_b=p_a*p_b\n",
    "a_and_b"
   ]
  },
  {
   "cell_type": "markdown",
   "id": "c63f8913",
   "metadata": {},
   "source": [
    "* Que-\n",
    "cards are Two selected without replacing the first card from the deck. Find the probability of selecting a king and then selecting a queen.\n"
   ]
  },
  {
   "cell_type": "code",
   "execution_count": 12,
   "id": "2dc89481",
   "metadata": {},
   "outputs": [
    {
     "data": {
      "text/plain": [
       "0.006033182503770739"
      ]
     },
     "execution_count": 12,
     "metadata": {},
     "output_type": "execute_result"
    }
   ],
   "source": [
    "p_a=4/52\n",
    "p_b=4/51\n",
    "a_and_b=p_a*p_b\n",
    "a_and_b"
   ]
  },
  {
   "cell_type": "markdown",
   "id": "fe476e26",
   "metadata": {},
   "source": [
    "* Que-\n",
    "Find the probability of drawing a diamond card in each of the two consecutive draws from a well shuffled pack of cards, if the card drawn is not replaced after the first draw?\n"
   ]
  },
  {
   "cell_type": "code",
   "execution_count": 7,
   "id": "3308e4e6",
   "metadata": {},
   "outputs": [
    {
     "data": {
      "text/plain": [
       "0.058823529411764705"
      ]
     },
     "execution_count": 7,
     "metadata": {},
     "output_type": "execute_result"
    }
   ],
   "source": [
    "p_a=13/51\n",
    "p_b=12/52\n",
    "a_and_b=p_a*p_b\n",
    "a_and_b"
   ]
  },
  {
   "cell_type": "markdown",
   "id": "1ab5bc30",
   "metadata": {},
   "source": [
    "* Que-\n",
    "There are 19 tickets, numbered from 1 to 19. A ticket is drawn and then another ticket is drawn without replacement. Find the probability that both tickets will show even numbers.\n"
   ]
  },
  {
   "cell_type": "code",
   "execution_count": 8,
   "id": "2532d098",
   "metadata": {},
   "outputs": [
    {
     "data": {
      "text/plain": [
       "0.21052631578947367"
      ]
     },
     "execution_count": 8,
     "metadata": {},
     "output_type": "execute_result"
    }
   ],
   "source": [
    "p_a=9/19\n",
    "p_b=8/18\n",
    "a_and_b=p_a*p_b\n",
    "a_and_b"
   ]
  },
  {
   "cell_type": "markdown",
   "id": "0dc26da5",
   "metadata": {},
   "source": [
    "* Que-\n",
    "A bag contains 4 red balls, 3 white balls and 5 black balls. Two balls are drawn one after the other with replacement. Find the probability that first is red and the second is black.\n"
   ]
  },
  {
   "cell_type": "code",
   "execution_count": 9,
   "id": "36d21f66",
   "metadata": {},
   "outputs": [
    {
     "data": {
      "text/plain": [
       "0.1388888888888889"
      ]
     },
     "execution_count": 9,
     "metadata": {},
     "output_type": "execute_result"
    }
   ],
   "source": [
    "p_a=4/12\n",
    "p_b=5/12\n",
    "a_and_b=p_a*p_b\n",
    "a_and_b"
   ]
  },
  {
   "cell_type": "markdown",
   "id": "ab022683",
   "metadata": {},
   "source": [
    "* Que-\n",
    " A bag contains 5 green and 7 red balls. Two balls are drawn. Find the probability that one is green and the other is red.\n"
   ]
  },
  {
   "cell_type": "code",
   "execution_count": 10,
   "id": "94a51718",
   "metadata": {},
   "outputs": [
    {
     "data": {
      "text/plain": [
       "0.24305555555555558"
      ]
     },
     "execution_count": 10,
     "metadata": {},
     "output_type": "execute_result"
    }
   ],
   "source": [
    "p_a=5/12\n",
    "p_b=7/12\n",
    "a_and_b=p_a*p_b\n",
    "a_and_b"
   ]
  },
  {
   "cell_type": "markdown",
   "id": "830e6f4c",
   "metadata": {},
   "source": [
    "* Que-\n",
    "It is 8:5 against the wife who is 40 years old living till she is 70 and 4:3 against her husband now 50 living till he is 80. Find the probability that \n"
   ]
  },
  {
   "cell_type": "code",
   "execution_count": 11,
   "id": "cbc8c3a6",
   "metadata": {},
   "outputs": [
    {
     "data": {
      "text/plain": [
       "0.16483516483516483"
      ]
     },
     "execution_count": 11,
     "metadata": {},
     "output_type": "execute_result"
    }
   ],
   "source": [
    "p_a=5/13\n",
    "p_b=3/7\n",
    "a_and_b=p_a*p_b\n",
    "a_and_b"
   ]
  },
  {
   "cell_type": "markdown",
   "id": "1cf81efb",
   "metadata": {},
   "source": [
    "A bag contains 6 black marbles and 4 blue marbles. Two marbles are drawn from the bag, without replacement. What is the probability that both marbles are blue?\n"
   ]
  },
  {
   "cell_type": "code",
   "execution_count": 13,
   "id": "a8bbf8a8",
   "metadata": {},
   "outputs": [
    {
     "data": {
      "text/plain": [
       "0.2857142857142857"
      ]
     },
     "execution_count": 13,
     "metadata": {},
     "output_type": "execute_result"
    }
   ],
   "source": [
    "p_a=3/7\n",
    "p_b=2/3\n",
    "a_and_b=p_a*p_b\n",
    "a_and_b"
   ]
  },
  {
   "cell_type": "markdown",
   "id": "ce39da22",
   "metadata": {},
   "source": [
    "* Que-\n",
    " A lot contains  12 items of which 4 are defective.Two items are drawn at random from the lot one after other (without replacement ).find the probability that both the items are defective ."
   ]
  },
  {
   "cell_type": "code",
   "execution_count": 17,
   "id": "44136b04",
   "metadata": {},
   "outputs": [
    {
     "data": {
      "text/plain": [
       "0.05555555555555555"
      ]
     },
     "execution_count": 17,
     "metadata": {},
     "output_type": "execute_result"
    }
   ],
   "source": [
    "p_a=4/12\n",
    "p_b=2/12\n",
    "c=p_a*p_b\n",
    "c"
   ]
  },
  {
   "cell_type": "markdown",
   "id": "c56207d9",
   "metadata": {},
   "source": [
    "* Que-\n",
    "A bag contains 19 tickets, numbered from 1 to 19. A ticket is drawn and then another ticket is drawn without replacement. Find the probability that both tickets will show even numbers\n",
    "\n"
   ]
  },
  {
   "cell_type": "code",
   "execution_count": 15,
   "id": "fdeb750a",
   "metadata": {},
   "outputs": [
    {
     "data": {
      "text/plain": [
       "0.21052631578947367"
      ]
     },
     "execution_count": 15,
     "metadata": {},
     "output_type": "execute_result"
    }
   ],
   "source": [
    "p_a=9/19\n",
    "p_b=8/18\n",
    "a_and_b=p_a*p_b\n",
    "a_and_b"
   ]
  },
  {
   "cell_type": "markdown",
   "id": "feeefeec",
   "metadata": {},
   "source": [
    "#  Bayes Theorem"
   ]
  },
  {
   "cell_type": "markdown",
   "id": "29b42afb",
   "metadata": {},
   "source": [
    "* Que-\n",
    "A man is known to speak the truth ¾ times. He draws a card and reports it is King .\n",
    "Find the probability that it is actually a King.\n",
    "\n"
   ]
  },
  {
   "cell_type": "code",
   "execution_count": 18,
   "id": "088e250e",
   "metadata": {},
   "outputs": [
    {
     "data": {
      "text/plain": [
       "0.5"
      ]
     },
     "execution_count": 18,
     "metadata": {},
     "output_type": "execute_result"
    }
   ],
   "source": [
    "A1 = 1/4\n",
    "A2 = 1/4\n",
    "\n",
    "B_A1 =3/4\n",
    "B_A2 = 3/4\n",
    "\n",
    "Prediction = ((A1*B_A1)/(A1*B_A1+A2*B_A2))\n",
    "Prediction\n"
   ]
  },
  {
   "cell_type": "markdown",
   "id": "210ce6a4",
   "metadata": {},
   "source": [
    "* Que-\n",
    "Assume that the chances of a person having a skin disease are 40%. Assuming that skin creams and drinking enough water reduces the risk of skin disease by 30% and prescription of a certain drug reduces its chance by 20%. At a time, a patient can choose any one of the two options with equal probabilities. It is given that after picking one of the options, the patient selected at random has the skin disease. Find the probability that the patient picked the option of skin screams and drinking enough water using the Bayes theorem.\n"
   ]
  },
  {
   "cell_type": "code",
   "execution_count": 23,
   "id": "50cc18ea",
   "metadata": {},
   "outputs": [
    {
     "data": {
      "text/plain": [
       "0.4666666666666666"
      ]
     },
     "execution_count": 23,
     "metadata": {},
     "output_type": "execute_result"
    }
   ],
   "source": [
    "A1 = 0.5\n",
    "A2 = 0.5\n",
    "\n",
    "B_A1 =0.28\n",
    "B_A2 = 0.32\n",
    "\n",
    "Prediction = ((B_A1*A1)/(B_A1*A1+B_A2*A2))\n",
    "Prediction"
   ]
  },
  {
   "cell_type": "markdown",
   "id": "6fd4ac1e",
   "metadata": {},
   "source": [
    "* Que-\n",
    "A bag I contains 4 white and 6 black balls while another Bag II contains 4 white and 3 black balls. One ball is drawn at random from one of the bags, and it is found to be black. Find the probability that it was drawn from Bag I.\n"
   ]
  },
  {
   "cell_type": "code",
   "execution_count": 29,
   "id": "64adaa0a",
   "metadata": {},
   "outputs": [
    {
     "data": {
      "text/plain": [
       "0.5882352941176471"
      ]
     },
     "execution_count": 29,
     "metadata": {},
     "output_type": "execute_result"
    }
   ],
   "source": [
    "A1 = 1/2\n",
    "A2 = 1/2\n",
    "\n",
    "B_A1 =4/10\n",
    "B_A2 = 4/7\n",
    "\n",
    "Prediction = ((B_A2*A2)/(B_A1*A1+B_A2*A2))\n",
    "Prediction"
   ]
  },
  {
   "cell_type": "markdown",
   "id": "0fbda0d1",
   "metadata": {},
   "source": [
    "* Que-\n",
    "A bag contains 4 balls. Two balls drawn at random without replacement and are found to be blue.what is the probability that all balls in the bag are blue?\n",
    "\n"
   ]
  },
  {
   "cell_type": "code",
   "execution_count": 38,
   "id": "2966f718",
   "metadata": {},
   "outputs": [
    {
     "data": {
      "text/plain": [
       "0.31887755102040816"
      ]
     },
     "execution_count": 38,
     "metadata": {},
     "output_type": "execute_result"
    }
   ],
   "source": [
    "A1 = 1/2\n",
    "A2 = 1/2\n",
    "\n",
    "\n",
    "\n",
    "B_A1 =7/11\n",
    "B_A2 =5/14\n",
    "\n",
    "\n",
    "Prediction = ((B_A2*A2/B_A1*A1+B_A2*A2))\n",
    "Prediction"
   ]
  },
  {
   "cell_type": "markdown",
   "id": "af767c57",
   "metadata": {},
   "source": [
    "* Que-\n",
    "1% of a population have a certain disease and the remaining 99% are free from this disease. A test is used to detect this disease. This test is positive in 95% of the people with the disease and is also (falsely) positive in 2% of the people free from the disease.\n",
    "If a person, selected at random from this population,\n"
   ]
  },
  {
   "cell_type": "code",
   "execution_count": 1,
   "id": "647addc8",
   "metadata": {},
   "outputs": [
    {
     "data": {
      "text/plain": [
       "0.3242320819112628"
      ]
     },
     "execution_count": 1,
     "metadata": {},
     "output_type": "execute_result"
    }
   ],
   "source": [
    "A1=0.01\n",
    "A2=0.99\n",
    "\n",
    "\n",
    "B_A1=0.95\n",
    "B_A2=0.02\n",
    "\n",
    "\n",
    "Prediction=(A1*B_A1)/(A1*B_A1 + A2*B_A2)\n",
    "Prediction"
   ]
  },
  {
   "cell_type": "markdown",
   "id": "8c7e6e38",
   "metadata": {},
   "source": [
    "* Que-\n",
    "If we have to calculate the probability of taking a blue ball from the second bag out of three different bags of balls, where each bag contains three different colour balls viz. red, blue, black.\n",
    "\n"
   ]
  },
  {
   "cell_type": "code",
   "execution_count": null,
   "id": "2cc473cc",
   "metadata": {},
   "outputs": [],
   "source": []
  },
  {
   "cell_type": "markdown",
   "id": "f0b768f8",
   "metadata": {},
   "source": [
    "* Que-\n",
    "ositive mammogram result?\n",
    "One percent of women over 50 have breast cancer.\n",
    "Ninety percent of women who have breast cancer test positive on mammograms.\n",
    "Eight percent of women will have false positives\n"
   ]
  },
  {
   "cell_type": "code",
   "execution_count": null,
   "id": "f7a462bf",
   "metadata": {},
   "outputs": [],
   "source": []
  },
  {
   "cell_type": "markdown",
   "id": "d7856d47",
   "metadata": {},
   "source": [
    "* Que-\n",
    "Amy has two bags. Bag I has 7 red and 2 blue balls and bag II has 5 red and 9 blue balls. Amy draws a ball at random and it turns out to be red. Determine the probability that the ball was from the bag I using the Bayes theorem.\n"
   ]
  },
  {
   "cell_type": "code",
   "execution_count": 40,
   "id": "89625e1b",
   "metadata": {},
   "outputs": [
    {
     "data": {
      "text/plain": [
       "0.6405228758169935"
      ]
     },
     "execution_count": 40,
     "metadata": {},
     "output_type": "execute_result"
    }
   ],
   "source": [
    "A1 = 1/2\n",
    "A2 = 1/2\n",
    "\n",
    "B_A1 =7/11\n",
    "B_A2 = 5/14\n",
    "\n",
    "Prediction = ((B_A1*A1)/(B_A1*A1+B_A2*A2))\n",
    "Prediction"
   ]
  },
  {
   "cell_type": "markdown",
   "id": "f5d45d80",
   "metadata": {},
   "source": [
    "* Que-\n",
    "Two urns identical in appearance, contain respectively 3 white and 2 black balls and 2 white and 5 black balls . one urn is selected at random , and a ball is drawn from it . what is the probability that it is black?\n",
    "\n"
   ]
  },
  {
   "cell_type": "code",
   "execution_count": null,
   "id": "0a28dbae",
   "metadata": {},
   "outputs": [],
   "source": []
  },
  {
   "cell_type": "markdown",
   "id": "88077cab",
   "metadata": {},
   "source": [
    "* Que-\n",
    " A jar containing 8 marbles of which 4 red and 4 blue marbles are there. Find the probability of getting a red given the first one was red too.\n"
   ]
  },
  {
   "cell_type": "code",
   "execution_count": 44,
   "id": "cc571a47",
   "metadata": {},
   "outputs": [
    {
     "data": {
      "text/plain": [
       "0.4615384615384615"
      ]
     },
     "execution_count": 44,
     "metadata": {},
     "output_type": "execute_result"
    }
   ],
   "source": [
    "A1 = 4/8\n",
    "B = 3/7\n",
    "a_and_b=3/14\n",
    "B_A1=3/7\n",
    "B_A2=4/8\n",
    "\n",
    "Prediction = ((B_A1*A1)/(B_A1*A1+B_A2*A2))\n",
    "Prediction"
   ]
  },
  {
   "cell_type": "markdown",
   "id": "2a7622d6",
   "metadata": {},
   "source": [
    "* Que-\n",
    "Three urns contain 6 red, 4 black; 4 red, 6 black, and 5 red, 5 black balls respectively. One of the urns is selected at random and a ball is drawn from it. If the ball drawn is red, find the probability that it is drawn from the first urn.\n"
   ]
  },
  {
   "cell_type": "code",
   "execution_count": 46,
   "id": "763e7183",
   "metadata": {},
   "outputs": [
    {
     "data": {
      "text/plain": [
       "0.4066666666666666"
      ]
     },
     "execution_count": 46,
     "metadata": {},
     "output_type": "execute_result"
    }
   ],
   "source": [
    "A1 = 1/3\n",
    "A2 = 1/3\n",
    "A3 = 1/3\n",
    "\n",
    "B_A1 = 0.6\n",
    "B_A2 = 0.4\n",
    "B_A3 = 0.5\n",
    "\n",
    "Prediction = ((A1*B_A1/A2*B_A2+A3*B_A3))\n",
    "Prediction"
   ]
  },
  {
   "cell_type": "markdown",
   "id": "7f96f3c6",
   "metadata": {},
   "source": [
    "* Que-\n",
    "An insurance company insured 2000 scooter drivers, 4000 car drivers and 6000 truck drivers. The probability of an accident involving a scooter driver , car driver and a truck driver is 0.01, 0.03, 0.015. One of the insured persons meets with an accident. What is the probability that he is a scooter driver?\n"
   ]
  },
  {
   "cell_type": "code",
   "execution_count": 1,
   "id": "66c7080c",
   "metadata": {},
   "outputs": [
    {
     "data": {
      "text/plain": [
       "0.01923076923076923"
      ]
     },
     "execution_count": 1,
     "metadata": {},
     "output_type": "execute_result"
    }
   ],
   "source": [
    "A1 = 1/6\n",
    "A2 = 1/3\n",
    "A3 = 1/2\n",
    "\n",
    "B_A1 = 1/100\n",
    "B_A2 = 3/100\n",
    "B_A3 = 15/100\n",
    "\n",
    "Prediction = ((A1*B_A1)/(A1*B_A1+A2*B_A2+A3*B_A3))\n",
    "Prediction"
   ]
  },
  {
   "cell_type": "code",
   "execution_count": null,
   "id": "b98b93ef",
   "metadata": {},
   "outputs": [],
   "source": []
  }
 ],
 "metadata": {
  "kernelspec": {
   "display_name": "Python 3 (ipykernel)",
   "language": "python",
   "name": "python3"
  },
  "language_info": {
   "codemirror_mode": {
    "name": "ipython",
    "version": 3
   },
   "file_extension": ".py",
   "mimetype": "text/x-python",
   "name": "python",
   "nbconvert_exporter": "python",
   "pygments_lexer": "ipython3",
   "version": "3.9.12"
  }
 },
 "nbformat": 4,
 "nbformat_minor": 5
}
